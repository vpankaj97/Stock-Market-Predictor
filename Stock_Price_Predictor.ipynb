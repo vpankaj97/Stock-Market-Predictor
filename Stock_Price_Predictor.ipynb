{
 "cells": [
  {
   "cell_type": "markdown",
   "metadata": {},
   "source": [
    "# Final Year Major Project\n",
    "\n",
    "Stock Price Prediction\n",
    "\n",
    "The challenge of this project is to accurately predict the future closing value of a given stock across a given period of time in the future.\n"
   ]
  },
  {
   "cell_type": "markdown",
   "metadata": {},
   "source": [
    "## Use \n",
    "\n",
    "In the following cells we download and save the data set of the company we want.\n",
    "\n",
    "   **Step 1 :** Define a function to get historical data Alphavantage"
   ]
  },
  {
   "cell_type": "code",
   "execution_count": 24,
   "metadata": {},
   "outputs": [],
   "source": [
    "import pandas as pd\n",
    "import datetime as dt\n",
    "from pandas_datareader import data\n",
    "import urllib.request, json \n",
    "import os"
   ]
  },
  {
   "cell_type": "markdown",
   "metadata": {
    "collapsed": true
   },
   "source": [
    "2. Download data\n",
    "You present code for using data from,\n",
    "\n",
    "Alpha Vantage. Before you start, however, you will first need an API key, which you can obtain for free here. After that, you can assigned that key to the api_key variable.\n",
    "Stock prices come in several different flavours. They are,\n",
    "\n",
    "Open: Opening stock price of the day\n",
    "Close: Closing stock price of the day\n",
    "High: Highest stock price of the data\n",
    "Low: Lowest stock price of the day\n",
    "Getting Data from Alphavantage\n",
    "You will first load in the data from Alpha Vantage. Since you're going to make use of the American Airlines Stock market prices to make your predictions, you set the ticker to \"AAL\". Additionally, you also define a url_string, which will return a JSON file with all the stock market data for American Airlines within last 20 years, and a file_to_save, which will be the file to which you save the data. You'll use the ticker variable that you defined beforehand to help name this file.\n",
    "\n",
    "Next, you're going to specify a condition: if you haven't already saved data, you will go ahead and grab the data from the URL that you set in url_string; You'll store the date, low, high, volume, close, open values to a pandas DataFrame df and you'll save it to file_to_save. However, if the data is already there, you'll just load it from the CSV."
   ]
  },
  {
   "cell_type": "code",
   "execution_count": 25,
   "metadata": {},
   "outputs": [
    {
     "name": "stdout",
     "output_type": "stream",
     "text": [
      "File already exists. Loading data from CSV\n"
     ]
    }
   ],
   "source": [
    "data_source = 'alphavantage'\n",
    "\n",
    "    # ====================== Loading Data from Alpha Vantage ==================================\n",
    "\n",
    "api_key = 'TFT45YBBY0XZUTOL'\n",
    "\n",
    "# American Airlines stock market prices\n",
    "ticker = \"MSFT\" \n",
    "\n",
    "# JSON file with all the stock market data for AAL within the last 20 years\n",
    "url_string = \"https://www.alphavantage.co/query?function=TIME_SERIES_DAILY&symbol=%s&outputsize=full&apikey=%s\"%(ticker,api_key)\n",
    "\n",
    "# Save data to this file\n",
    "file_to_save = 'stock_market_data-%s.csv'%ticker\n",
    "\n",
    "# If you haven't already saved data,\n",
    "# Go ahead and grab the data from the url\n",
    "# And store date, low, high, volume, close, open values to a Pandas dataframe\n",
    "if not os.path.exists(file_to_save):\n",
    "    with urllib.request.urlopen(url_string) as url:\n",
    "        data = json.loads(url.read().decode())\n",
    "        # extract stock market data\n",
    "        data = data['Time Series (Daily)']\n",
    "        df = pd.DataFrame(columns=['Date','Open','High','Low','Close','Volume'])\n",
    "        for k,v in data.items():\n",
    "            date = dt.datetime.strptime(k, '%Y-%m-%d')\n",
    "            data_row = [date.date(),float(v['3. low']),float(v['2. high']),\n",
    "                        float(v['4. close']),float(v['1. open']),float(v['5. volume'])]\n",
    "            df.loc[-1,:] = data_row\n",
    "            df.index = df.index + 1\n",
    "    print('Data saved to : %s'%file_to_save) \n",
    "    df = df.sort_values('Date')\n",
    "    df.index = df['Date']\n",
    "    del df['Date']\n",
    "    df.to_csv(file_to_save)\n",
    "\n",
    "# If the data is already there, just load it from the CSV\n",
    "else:\n",
    "    print('File already exists. Loading data from CSV')\n",
    "    df = pd.read_csv(file_to_save,index_col=\"Date\",parse_dates=True)\n",
    "\n"
   ]
  },
  {
   "cell_type": "markdown",
   "metadata": {},
   "source": []
  },
  {
   "cell_type": "markdown",
   "metadata": {},
   "source": [
    "## Preprocess the data\n",
    "\n",
    "Now it is time to preprocess the data. In the following cells we will normalise it for better prediction of data.\n",
    "\n",
    "**Step 1 :** Get the data from csv file."
   ]
  },
  {
   "cell_type": "code",
   "execution_count": 26,
   "metadata": {},
   "outputs": [
    {
     "name": "stdout",
     "output_type": "stream",
     "text": [
      "              Open    High     Low   Close      Volume\n",
      "Date                                                  \n",
      "1998-01-02  129.50  131.50  131.13  129.63   4968500.0\n",
      "1998-01-05  127.87  133.63  130.38  131.25  10047200.0\n",
      "1998-01-06  129.25  133.00  131.13  129.75   8479300.0\n",
      "1998-01-07  127.50  131.19  129.56  129.88   7686600.0\n",
      "1998-01-08  127.50  132.13  130.50  128.63   9702400.0\n",
      "1998-01-09  125.87  131.50  127.00  130.06  10941800.0\n",
      "1998-01-12  124.37  130.00  129.50  124.62   9799200.0\n",
      "1998-01-13  128.13  132.25  132.13  129.50   8368200.0\n",
      "1998-01-14  129.25  132.50  131.13  132.13   6846800.0\n",
      "1998-01-15  129.88  133.00  132.31  130.38   6327800.0\n",
      "--------------------------------------------------\n",
      "                Open    High     Low   Close      Volume\n",
      "Date                                                    \n",
      "2019-04-08  118.6400  120.02  119.93  119.81  15116186.0\n",
      "2019-04-09  118.5800  119.54  119.28  118.63  17611981.0\n",
      "2019-04-10  119.5400  120.35  120.19  119.76  16477169.0\n",
      "2019-04-11  119.9200  120.85  120.33  120.54  14209121.0\n",
      "2019-04-12  120.3700  120.98  120.95  120.64  19745143.0\n",
      "2019-04-15  120.5700  121.58  121.05  120.94  15792572.0\n",
      "2019-04-16  120.1000  121.65  120.77  121.64  14071787.0\n",
      "2019-04-17  120.5400  121.85  121.77  121.24  19300938.0\n",
      "2019-04-18  121.3018  123.52  123.37  122.19  27990998.0\n",
      "2019-04-22  122.5700  124.00  123.76  122.62  14823625.0\n"
     ]
    }
   ],
   "source": [
    "import pandas as pd\n",
    "import numpy as np\n",
    "print(df.head(10))\n",
    "print(\"--------------------------------------------------\")\n",
    "print(df.tail(10))"
   ]
  },
  {
   "cell_type": "markdown",
   "metadata": {},
   "source": [
    "**Step 2 :** Remove Unncessary data, i.e., Date and High value"
   ]
  },
  {
   "cell_type": "code",
   "execution_count": 4,
   "metadata": {},
   "outputs": [
    {
     "name": "stdout",
     "output_type": "stream",
     "text": [
      "   Item      Open   Close      Volume\n",
      "0     0  122.5700  122.62  14823625.0\n",
      "1     1  121.3018  122.19  27990998.0\n",
      "2     2  120.5400  121.24  19300938.0\n",
      "3     3  120.1000  121.64  14071787.0\n",
      "4     4  120.5700  120.94  15792572.0\n",
      "--------------------------------------------------\n",
      "      Item    Open   Close      Volume\n",
      "5354  5354  127.50  128.63   9702400.0\n",
      "5355  5355  127.50  129.88   7686600.0\n",
      "5356  5356  129.25  129.75   8479300.0\n",
      "5357  5357  127.87  131.25  10047200.0\n",
      "5358  5358  129.50  129.63   4968500.0\n"
     ]
    }
   ],
   "source": [
    "from Include import preprocess_data as ppd\n",
    "stocks = ppd.remove_data(df)\n",
    "\n",
    "#Print the dataframe head and tail\n",
    "print(stocks.head())\n",
    "print(\"--------------------------------------------------\")\n",
    "print(stocks.tail())"
   ]
  },
  {
   "cell_type": "markdown",
   "metadata": {},
   "source": [
    "**Step 2: ** Visualise raw data."
   ]
  },
  {
   "cell_type": "code",
   "execution_count": 6,
   "metadata": {},
   "outputs": [
    {
     "data": {
      "image/png": "[encoded data removed]",
      "text/plain": [
       "<Figure size 432x288 with 1 Axes>"
      ]
     },
     "metadata": {
      "needs_background": "light"
     },
     "output_type": "display_data"
    }
   ],
   "source": [
    "from Include import visualize\n",
    "visualize.plot_basic(stocks,ticker)"
   ]
  },
  {
   "cell_type": "markdown",
   "metadata": {},
   "source": [
    "**Step 3 :** Normalise the data using minmaxscaler function"
   ]
  },
  {
   "cell_type": "code",
   "execution_count": 7,
   "metadata": {},
   "outputs": [
    {
     "name": "stdout",
     "output_type": "stream",
     "text": [
      "   Item      Open     Close    Volume\n",
      "0     0  0.669443  0.656040  0.019342\n",
      "1     1  0.661560  0.653414  0.041751\n",
      "2     2  0.656825  0.647612  0.026962\n",
      "3     3  0.654090  0.650055  0.018063\n",
      "4     4  0.657011  0.645780  0.020991\n",
      "5     5  0.655768  0.643948  0.027718\n",
      "6     6  0.652971  0.643337  0.018297\n",
      "7     7  0.650609  0.638573  0.022157\n",
      "8     8  0.644642  0.631672  0.024088\n",
      "9     9  0.645015  0.638879  0.019840\n",
      "\n",
      "\n",
      "Open   --- mean : 0.213661154122   \t Std:  0.184139922502   \t Max:  1.0   \t Min:  0.0\n",
      "Close  --- mean : 0.211616618498   \t Std:  0.183773373128   \t Max:  1.0   \t Min:  0.0\n",
      "Volume --- mean : 0.0745209105311   \t Std:  0.0489334348103   \t Max:  1.0   \t Min:  0.0\n"
     ]
    }
   ],
   "source": [
    "stocks = ppd.get_normalised_data(stocks)\n",
    "print(stocks.head(10))\n",
    "\n",
    "print(\"\\n\")\n",
    "print(\"Open   --- mean :\", np.mean(stocks['Open']),  \"  \\t Std: \", np.std(stocks['Open']),  \"  \\t Max: \", np.max(stocks['Open']),  \"  \\t Min: \", np.min(stocks['Open']))\n",
    "print(\"Close  --- mean :\", np.mean(stocks['Close']), \"  \\t Std: \", np.std(stocks['Close']), \"  \\t Max: \", np.max(stocks['Close']), \"  \\t Min: \", np.min(stocks['Close']))\n",
    "print(\"Volume --- mean :\", np.mean(stocks['Volume']),\"  \\t Std: \", np.std(stocks['Volume']),\"  \\t Max: \", np.max(stocks['Volume']),\"  \\t Min: \", np.min(stocks['Volume']))"
   ]
  },
  {
   "cell_type": "markdown",
   "metadata": {},
   "source": [
    "**Step 4 :** Visualize the data again"
   ]
  },
  {
   "cell_type": "code",
   "execution_count": 8,
   "metadata": {},
   "outputs": [
    {
     "data": {
      "image/png": "[encoded data removed]",
      "text/plain": [
       "<Figure size 432x288 with 1 Axes>"
      ]
     },
     "metadata": {
      "needs_background": "light"
     },
     "output_type": "display_data"
    }
   ],
   "source": [
    "visualize.plot_basic(stocks,ticker)"
   ]
  },
  {
   "cell_type": "markdown",
   "metadata": {
    "collapsed": true
   },
   "source": [
    "**Step 5:** Log the normalised data for future resuablilty"
   ]
  },
  {
   "cell_type": "code",
   "execution_count": 9,
   "metadata": {},
   "outputs": [],
   "source": [
    "file_to_save_preprocessed = 'stock_market_data-%s_preprocessed.csv'%ticker\n",
    "stocks.to_csv(file_to_save_preprocessed,index= False)"
   ]
  },
  {
   "cell_type": "markdown",
   "metadata": {},
   "source": [
    "## Bench Mark Model\n",
    "\n",
    "In this section we will check our bench mark model. As is proposed in my proposal my bench mark model is a simple linear regressor model. "
   ]
  },
  {
   "cell_type": "markdown",
   "metadata": {},
   "source": [
    "**Step 1:** Load the preprocessed data"
   ]
  },
  {
   "cell_type": "code",
   "execution_count": 10,
   "metadata": {},
   "outputs": [
    {
     "data": {
      "text/html": [
       "<div>\n",
       "<style scoped>\n",
       "    .dataframe tbody tr th:only-of-type {\n",
       "        vertical-align: middle;\n",
       "    }\n",
       "\n",
       "    .dataframe tbody tr th {\n",
       "        vertical-align: top;\n",
       "    }\n",
       "\n",
       "    .dataframe thead th {\n",
       "        text-align: right;\n",
       "    }\n",
       "</style>\n",
       "<table border=\"1\" class=\"dataframe\">\n",
       "  <thead>\n",
       "    <tr style=\"text-align: right;\">\n",
       "      <th></th>\n",
       "      <th>Item</th>\n",
       "      <th>Open</th>\n",
       "      <th>Close</th>\n",
       "      <th>Volume</th>\n",
       "    </tr>\n",
       "  </thead>\n",
       "  <tbody>\n",
       "    <tr>\n",
       "      <th>0</th>\n",
       "      <td>0</td>\n",
       "      <td>0.669443</td>\n",
       "      <td>0.656040</td>\n",
       "      <td>0.019342</td>\n",
       "    </tr>\n",
       "    <tr>\n",
       "      <th>1</th>\n",
       "      <td>1</td>\n",
       "      <td>0.661560</td>\n",
       "      <td>0.653414</td>\n",
       "      <td>0.041751</td>\n",
       "    </tr>\n",
       "    <tr>\n",
       "      <th>2</th>\n",
       "      <td>2</td>\n",
       "      <td>0.656825</td>\n",
       "      <td>0.647612</td>\n",
       "      <td>0.026962</td>\n",
       "    </tr>\n",
       "    <tr>\n",
       "      <th>3</th>\n",
       "      <td>3</td>\n",
       "      <td>0.654090</td>\n",
       "      <td>0.650055</td>\n",
       "      <td>0.018063</td>\n",
       "    </tr>\n",
       "    <tr>\n",
       "      <th>4</th>\n",
       "      <td>4</td>\n",
       "      <td>0.657011</td>\n",
       "      <td>0.645780</td>\n",
       "      <td>0.020991</td>\n",
       "    </tr>\n",
       "  </tbody>\n",
       "</table>\n",
       "</div>"
      ],
      "text/plain": [
       "   Item      Open     Close    Volume\n",
       "0     0  0.669443  0.656040  0.019342\n",
       "1     1  0.661560  0.653414  0.041751\n",
       "2     2  0.656825  0.647612  0.026962\n",
       "3     3  0.654090  0.650055  0.018063\n",
       "4     4  0.657011  0.645780  0.020991"
      ]
     },
     "metadata": {},
     "output_type": "display_data"
    }
   ],
   "source": [
    "import math\n",
    "import pandas as pd\n",
    "import numpy as np\n",
    "from IPython.display import display\n",
    "from sklearn import linear_model\n",
    "from sklearn.model_selection import train_test_split\n",
    "from sklearn.metrics import mean_squared_error\n",
    "from sklearn.model_selection import TimeSeriesSplit\n",
    "\n",
    "from Include import visualize as vs\n",
    "from Include import stock_data as sd\n",
    "from Include import LinearRegressionModel\n",
    "\n",
    "stocks = pd.read_csv(file_to_save_preprocessed)\n",
    "display(stocks.head())"
   ]
  },
  {
   "cell_type": "markdown",
   "metadata": {},
   "source": [
    "**Step 2:** Split data into train and test pair"
   ]
  },
  {
   "cell_type": "code",
   "execution_count": 11,
   "metadata": {},
   "outputs": [
    {
     "name": "stdout",
     "output_type": "stream",
     "text": [
      "X_train (3671, 1)\n",
      "y_train (3671, 1)\n",
      "X_test (1688, 1)\n",
      "y_test (1688, 1)\n"
     ]
    }
   ],
   "source": [
    "X_train, X_test, y_train, y_test, label_range= sd.train_test_split_linear_regression(stocks)\n",
    "\n",
    "print(\"X_train\", X_train.shape)\n",
    "print(\"y_train\", y_train.shape)\n",
    "print(\"X_test\", X_test.shape)\n",
    "print(\"y_test\", y_test.shape)\n"
   ]
  },
  {
   "cell_type": "markdown",
   "metadata": {},
   "source": [
    "**Step 3:** Train a Linear regressor model on training set and get prediction"
   ]
  },
  {
   "cell_type": "code",
   "execution_count": 12,
   "metadata": {},
   "outputs": [],
   "source": [
    "model = LinearRegressionModel.build_model(X_train,y_train)"
   ]
  },
  {
   "cell_type": "markdown",
   "metadata": {},
   "source": [
    "**Step 4:** Get prediction on test set"
   ]
  },
  {
   "cell_type": "code",
   "execution_count": 13,
   "metadata": {},
   "outputs": [
    {
     "data": {
      "text/plain": [
       "array([-0.0398898 , -0.0399992 , -0.0401086 , -0.04021799, -0.04032739,\n",
       "       -0.04043678, -0.04054618, -0.04065557, -0.04076497, -0.04087437])"
      ]
     },
     "execution_count": 13,
     "metadata": {},
     "output_type": "execute_result"
    }
   ],
   "source": [
    "predictions = LinearRegressionModel.predict_prices(model,X_test, label_range)\n",
    "predictions[:10]"
   ]
  },
  {
   "cell_type": "markdown",
   "metadata": {},
   "source": [
    "**Step 5:** Plot the predicted values against actual"
   ]
  },
  {
   "cell_type": "code",
   "execution_count": 14,
   "metadata": {},
   "outputs": [
    {
     "data": {
      "image/png": "[encoded data removed]",
      "text/plain": [
       "<Figure size 432x288 with 1 Axes>"
      ]
     },
     "metadata": {
      "needs_background": "light"
     },
     "output_type": "display_data"
    }
   ],
   "source": [
    "vs.plot_prediction(y_test,predictions)         "
   ]
  },
  {
   "cell_type": "markdown",
   "metadata": {},
   "source": [
    "**Step 6:** measure accuracy of the prediction"
   ]
  },
  {
   "cell_type": "code",
   "execution_count": 15,
   "metadata": {},
   "outputs": [
    {
     "name": "stdout",
     "output_type": "stream",
     "text": [
      "Train Score: 0.5563 MSE (0.7459 RMSE)\n",
      "Test Score: 0.26617422 MSE (0.51592075 RMSE)\n"
     ]
    }
   ],
   "source": [
    "trainScore = mean_squared_error(X_train, y_train)\n",
    "print('Train Score: %.4f MSE (%.4f RMSE)' % (trainScore, math.sqrt(trainScore)))\n",
    "\n",
    "testScore = mean_squared_error(predictions, y_test)\n",
    "print('Test Score: %.8f MSE (%.8f RMSE)' % (testScore, math.sqrt(testScore)))"
   ]
  },
  {
   "cell_type": "markdown",
   "metadata": {},
   "source": [
    "\n",
    "\n",
    "\n",
    "## Long-Sort Term Memory Model\n",
    "\n"
   ]
  },
  {
   "cell_type": "markdown",
   "metadata": {},
   "source": [
    "### Basic LSTM Model\n",
    "\n",
    "First lets make a basic LSTM model."
   ]
  },
  {
   "cell_type": "markdown",
   "metadata": {},
   "source": [
    "**Step 1 :** import keras libraries for smooth implementaion of lstm "
   ]
  },
  {
   "cell_type": "code",
   "execution_count": 16,
   "metadata": {},
   "outputs": [
    {
     "name": "stderr",
     "output_type": "stream",
     "text": [
      "Using TensorFlow backend.\n"
     ]
    },
    {
     "data": {
      "text/html": [
       "<div>\n",
       "<style scoped>\n",
       "    .dataframe tbody tr th:only-of-type {\n",
       "        vertical-align: middle;\n",
       "    }\n",
       "\n",
       "    .dataframe tbody tr th {\n",
       "        vertical-align: top;\n",
       "    }\n",
       "\n",
       "    .dataframe thead th {\n",
       "        text-align: right;\n",
       "    }\n",
       "</style>\n",
       "<table border=\"1\" class=\"dataframe\">\n",
       "  <thead>\n",
       "    <tr style=\"text-align: right;\">\n",
       "      <th></th>\n",
       "      <th>Open</th>\n",
       "      <th>Close</th>\n",
       "      <th>Volume</th>\n",
       "    </tr>\n",
       "  </thead>\n",
       "  <tbody>\n",
       "    <tr>\n",
       "      <th>0</th>\n",
       "      <td>0.669443</td>\n",
       "      <td>0.656040</td>\n",
       "      <td>0.019342</td>\n",
       "    </tr>\n",
       "    <tr>\n",
       "      <th>1</th>\n",
       "      <td>0.661560</td>\n",
       "      <td>0.653414</td>\n",
       "      <td>0.041751</td>\n",
       "    </tr>\n",
       "    <tr>\n",
       "      <th>2</th>\n",
       "      <td>0.656825</td>\n",
       "      <td>0.647612</td>\n",
       "      <td>0.026962</td>\n",
       "    </tr>\n",
       "    <tr>\n",
       "      <th>3</th>\n",
       "      <td>0.654090</td>\n",
       "      <td>0.650055</td>\n",
       "      <td>0.018063</td>\n",
       "    </tr>\n",
       "    <tr>\n",
       "      <th>4</th>\n",
       "      <td>0.657011</td>\n",
       "      <td>0.645780</td>\n",
       "      <td>0.020991</td>\n",
       "    </tr>\n",
       "  </tbody>\n",
       "</table>\n",
       "</div>"
      ],
      "text/plain": [
       "       Open     Close    Volume\n",
       "0  0.669443  0.656040  0.019342\n",
       "1  0.661560  0.653414  0.041751\n",
       "2  0.656825  0.647612  0.026962\n",
       "3  0.654090  0.650055  0.018063\n",
       "4  0.657011  0.645780  0.020991"
      ]
     },
     "metadata": {},
     "output_type": "display_data"
    }
   ],
   "source": [
    "import math\n",
    "import pandas as pd\n",
    "import numpy as np\n",
    "from IPython.display import display\n",
    "\n",
    "from keras.layers.core import Dense, Activation, Dropout\n",
    "from keras.layers.recurrent import LSTM\n",
    "from keras.models import Sequential\n",
    "from keras.metrics import mean_squared_error\n",
    "from sklearn.model_selection import StratifiedKFold\n",
    "\n",
    "import time #helper libraries\n",
    "\n",
    "from Include import visualize as vs\n",
    "from Include import stock_data as sd\n",
    "from Include import LinearRegressionModel\n",
    "from Include import lstm\n",
    "stocks = pd.read_csv(file_to_save_preprocessed)\n",
    "stocks_data = stocks.drop(['Item'], axis =1)\n",
    "display(stocks_data.head())"
   ]
  },
  {
   "cell_type": "markdown",
   "metadata": {},
   "source": [
    "**Step 2 :** Split train and test data sets and Unroll train and test data for lstm model"
   ]
  },
  {
   "cell_type": "code",
   "execution_count": 18,
   "metadata": {},
   "outputs": [
    {
     "name": "stdout",
     "output_type": "stream",
     "text": [
      "x_train (4807, 50, 3)\n",
      "y_train (4807,)\n",
      "x_test (450, 50, 3)\n",
      "y_test (450,)\n"
     ]
    }
   ],
   "source": [
    "X_train, X_test,y_train, y_test = sd.train_test_split_lstm(stocks_data,1)\n",
    "\n",
    "unroll_length = 50\n",
    "X_train = sd.unroll(X_train, unroll_length)\n",
    "X_test = sd.unroll(X_test, unroll_length)\n",
    "y_train = y_train[-X_train.shape[0]:]\n",
    "y_test = y_test[-X_test.shape[0]:]\n",
    "\n",
    "print(\"x_train\", X_train.shape)\n",
    "print(\"y_train\", y_train.shape)\n",
    "print(\"x_test\", X_test.shape)\n",
    "print(\"y_test\", y_test.shape)"
   ]
  },
  {
   "cell_type": "markdown",
   "metadata": {},
   "source": [
    "**Step 3 :** Build a basic Long-Short Term Memory model"
   ]
  },
  {
   "cell_type": "code",
   "execution_count": 19,
   "metadata": {},
   "outputs": [
    {
     "name": "stdout",
     "output_type": "stream",
     "text": [
      "compilation time :  0.16766786575317383\n"
     ]
    }
   ],
   "source": [
    "# build basic lstm model\n",
    "model = lstm.build_basic_model(input_dim = X_train.shape[-1],output_dim = unroll_length, return_sequences=True)\n",
    "\n",
    "# Compile the model\n",
    "start = time.time()\n",
    "model.compile(loss='mean_squared_error', optimizer='adam')\n",
    "print('compilation time : ', time.time() - start)"
   ]
  },
  {
   "cell_type": "markdown",
   "metadata": {},
   "source": [
    "**Step 4:** Train the model"
   ]
  },
  {
   "cell_type": "code",
   "execution_count": 20,
   "metadata": {},
   "outputs": [
    {
     "name": "stdout",
     "output_type": "stream",
     "text": [
      "Train on 4566 samples, validate on 241 samples\n",
      "Epoch 1/1\n",
      "4566/4566 [==============================] - 18s 4ms/step - loss: 0.0013 - val_loss: 0.0020\n"
     ]
    },
    {
     "data": {
      "text/plain": [
       "<keras.callbacks.History at 0x29ce8ae3710>"
      ]
     },
     "execution_count": 20,
     "metadata": {},
     "output_type": "execute_result"
    }
   ],
   "source": [
    "model.fit(\n",
    "    X_train,\n",
    "    y_train,\n",
    "    epochs=1,\n",
    "    verbose=1,\n",
    "    validation_split=0.05)"
   ]
  },
  {
   "cell_type": "markdown",
   "metadata": {},
   "source": [
    "**Step 5:** make prediction using test data"
   ]
  },
  {
   "cell_type": "code",
   "execution_count": 21,
   "metadata": {},
   "outputs": [],
   "source": [
    "predictions = model.predict(X_test)\n",
    "model.save('lstm_model.h5')"
   ]
  },
  {
   "cell_type": "markdown",
   "metadata": {},
   "source": [
    "**Step 6:** Plot the results"
   ]
  },
  {
   "cell_type": "code",
   "execution_count": 22,
   "metadata": {},
   "outputs": [
    {
     "data": {
      "image/png": "[encoded data removed]",
      "text/plain": [
       "<Figure size 432x288 with 1 Axes>"
      ]
     },
     "metadata": {
      "needs_background": "light"
     },
     "output_type": "display_data"
    }
   ],
   "source": [
    "vs.plot_lstm_prediction(y_test,predictions)"
   ]
  },
  {
   "cell_type": "markdown",
   "metadata": {},
   "source": [
    "** Step 7:** Get the test score."
   ]
  },
  {
   "cell_type": "code",
   "execution_count": 27,
   "metadata": {},
   "outputs": [
    {
     "name": "stdout",
     "output_type": "stream",
     "text": [
      "Train Score: 0.00025197 MSE (0.01587361 RMSE)\n",
      "Test Score: 0.00736598 MSE (0.08582531 RMSE)\n"
     ]
    }
   ],
   "source": [
    "trainScore = model.evaluate(X_train, y_train, verbose=0)\n",
    "print('Train Score: %.8f MSE (%.8f RMSE)' % (trainScore, math.sqrt(trainScore)))\n",
    "\n",
    "\n",
    "testScore = model.evaluate(X_test, y_test, verbose=0)\n",
    "print('Test Score: %.8f MSE (%.8f RMSE)' % (testScore, math.sqrt(testScore)))"
   ]
  },
  {
   "cell_type": "markdown",
   "metadata": {},
   "source": [
    "### Improved LSTM Model\n",
    "\n",
    "**Step 1: ** Build an improved LSTM model"
   ]
  },
  {
   "cell_type": "code",
   "execution_count": 86,
   "metadata": {},
   "outputs": [
    {
     "name": "stdout",
     "output_type": "stream",
     "text": [
      "compilation time :  0.015590190887451172\n"
     ]
    }
   ],
   "source": [
    "# Set up hyperparameters\n",
    "batch_size = 128\n",
    "\n",
    "# build improved lstm model\n",
    "model = lstm.build_improved_model( X_train.shape[-1],output_dim = unroll_length, return_sequences=True)\n",
    "\n",
    "start = time.time()\n",
    "\n",
    "#final_model.compile(loss='mean_squared_error', optimizer='adam')\n",
    "\n",
    "model.compile(loss='mean_squared_error', optimizer='adam')\n",
    "print('compilation time : ', time.time() - start)"
   ]
  },
  {
   "cell_type": "markdown",
   "metadata": {},
   "source": [
    "**Step 2: ** Train improved LSTM model"
   ]
  },
  {
   "cell_type": "code",
   "execution_count": 56,
   "metadata": {
    "scrolled": true
   },
   "outputs": [
    {
     "name": "stdout",
     "output_type": "stream",
     "text": [
      "Train on 716 samples, validate on 8 samples\n",
      "Epoch 1/30\n",
      "716/716 [==============================] - 3s 3ms/step - loss: 0.1505 - val_loss: 0.0250\n",
      "Epoch 2/30\n",
      "716/716 [==============================] - 2s 2ms/step - loss: 0.0266 - val_loss: 3.6007e-04\n",
      "Epoch 3/30\n",
      "716/716 [==============================] - 2s 2ms/step - loss: 0.0192 - val_loss: 9.7612e-05\n",
      "Epoch 4/30\n",
      "716/716 [==============================] - ETA: 0s - loss: 0.006 - 1s 2ms/step - loss: 0.0069 - val_loss: 0.0093\n",
      "Epoch 5/30\n",
      "716/716 [==============================] - 2s 2ms/step - loss: 0.0079 - val_loss: 0.0029\n",
      "Epoch 6/30\n",
      "716/716 [==============================] - 2s 2ms/step - loss: 0.0055 - val_loss: 7.2052e-04\n",
      "Epoch 7/30\n",
      "716/716 [==============================] - 2s 2ms/step - loss: 0.0049 - val_loss: 0.0031\n",
      "Epoch 8/30\n",
      "716/716 [==============================] - 2s 2ms/step - loss: 0.0048 - val_loss: 0.0029\n",
      "Epoch 9/30\n",
      "716/716 [==============================] - 2s 2ms/step - loss: 0.0045 - val_loss: 6.5802e-04\n",
      "Epoch 10/30\n",
      "716/716 [==============================] - 2s 2ms/step - loss: 0.0044 - val_loss: 0.0013\n",
      "Epoch 11/30\n",
      "716/716 [==============================] - 2s 2ms/step - loss: 0.0039 - val_loss: 8.9084e-04\n",
      "Epoch 12/30\n",
      "716/716 [==============================] - 2s 2ms/step - loss: 0.0040 - val_loss: 6.1070e-04\n",
      "Epoch 13/30\n",
      "716/716 [==============================] - 2s 2ms/step - loss: 0.0035 - val_loss: 5.1722e-04\n",
      "Epoch 14/30\n",
      "716/716 [==============================] - 2s 2ms/step - loss: 0.0035 - val_loss: 2.0833e-04\n",
      "Epoch 15/30\n",
      "716/716 [==============================] - 2s 2ms/step - loss: 0.0033 - val_loss: 3.9835e-04\n",
      "Epoch 16/30\n",
      "716/716 [==============================] - 2s 2ms/step - loss: 0.0033 - val_loss: 1.6807e-04\n",
      "Epoch 17/30\n",
      "716/716 [==============================] - 2s 2ms/step - loss: 0.0033 - val_loss: 1.2623e-04\n",
      "Epoch 18/30\n",
      "716/716 [==============================] - 2s 2ms/step - loss: 0.0034 - val_loss: 1.7712e-04\n",
      "Epoch 19/30\n",
      "716/716 [==============================] - 2s 2ms/step - loss: 0.0031 - val_loss: 9.1364e-05\n",
      "Epoch 20/30\n",
      "716/716 [==============================] - 2s 2ms/step - loss: 0.0030 - val_loss: 1.4275e-04\n",
      "Epoch 21/30\n",
      "716/716 [==============================] - 2s 2ms/step - loss: 0.0033 - val_loss: 8.2389e-05\n",
      "Epoch 22/30\n",
      "716/716 [==============================] - 2s 2ms/step - loss: 0.0035 - val_loss: 9.5690e-05\n",
      "Epoch 23/30\n",
      "716/716 [==============================] - 2s 2ms/step - loss: 0.0032 - val_loss: 1.0163e-04\n",
      "Epoch 24/30\n",
      "716/716 [==============================] - 2s 2ms/step - loss: 0.0030 - val_loss: 9.2132e-05\n",
      "Epoch 25/30\n",
      "716/716 [==============================] - 2s 2ms/step - loss: 0.0032 - val_loss: 8.9658e-05\n",
      "Epoch 26/30\n",
      "716/716 [==============================] - 1s 2ms/step - loss: 0.0033 - val_loss: 1.1084e-04\n",
      "Epoch 27/30\n",
      "716/716 [==============================] - 1s 2ms/step - loss: 0.0028 - val_loss: 7.9078e-05\n",
      "Epoch 28/30\n",
      "716/716 [==============================] - 2s 2ms/step - loss: 0.0029 - val_loss: 1.1161e-04\n",
      "Epoch 29/30\n",
      "716/716 [==============================] - 2s 2ms/step - loss: 0.0033 - val_loss: 8.0666e-05\n",
      "Epoch 30/30\n",
      "716/716 [==============================] - 2s 2ms/step - loss: 0.0031 - val_loss: 1.2491e-04\n"
     ]
    },
    {
     "data": {
      "text/plain": [
       "<keras.callbacks.History at 0x1ae9b666cc0>"
      ]
     },
     "execution_count": 56,
     "metadata": {},
     "output_type": "execute_result"
    }
   ],
   "source": [
    "model.fit(X_train, \n",
    "          y_train, \n",
    "          batch_size=batch_size,\n",
    "          epochs=30,\n",
    "          verbose=1,\n",
    "          validation_split=0.01\n",
    "         )"
   ]
  },
  {
   "cell_type": "markdown",
   "metadata": {},
   "source": [
    "**Step 3:** Make prediction on improved LSTM model"
   ]
  },
  {
   "cell_type": "code",
   "execution_count": 57,
   "metadata": {},
   "outputs": [],
   "source": [
    "# Generate predictions \n",
    "model.save('lstm_model_improved.h5')\n",
    "predictions = model.predict(X_test, batch_size=batch_size)"
   ]
  },
  {
   "cell_type": "markdown",
   "metadata": {},
   "source": [
    "**Step 4:** plot the results"
   ]
  },
  {
   "cell_type": "code",
   "execution_count": 58,
   "metadata": {},
   "outputs": [
    {
     "data": {
      "image/png": "[encoded data removed]",
      "text/plain": [
       "<Figure size 432x288 with 1 Axes>"
      ]
     },
     "metadata": {
      "needs_background": "light"
     },
     "output_type": "display_data"
    }
   ],
   "source": [
    "vs.plot_lstm_prediction(y_test,predictions)\n"
   ]
  },
  {
   "cell_type": "markdown",
   "metadata": {},
   "source": [
    "**Step 5:** Get the test score"
   ]
  },
  {
   "cell_type": "code",
   "execution_count": 59,
   "metadata": {},
   "outputs": [
    {
     "name": "stdout",
     "output_type": "stream",
     "text": [
      "Train Score: 0.00143191 MSE (0.03784054 RMSE)\n",
      "Test Score: 0.00099017 MSE (0.03146702 RMSE)\n"
     ]
    }
   ],
   "source": [
    "trainScore = model.evaluate(X_train, y_train, verbose=0)\n",
    "print('Train Score: %.8f MSE (%.8f RMSE)' % (trainScore, math.sqrt(trainScore)))\n",
    "\n",
    "testScore = model.evaluate(X_test, y_test, verbose=0)\n",
    "print('Test Score: %.8f MSE (%.8f RMSE)' % (testScore, math.sqrt(testScore)))\n",
    "#print(\"%s: %.2f%%\" % (model.metrics_names[1], testScore[1]*100))"
   ]
  },
  {
   "cell_type": "code",
   "execution_count": 60,
   "metadata": {},
   "outputs": [
    {
     "name": "stdout",
     "output_type": "stream",
     "text": [
      "Delta Price: 0.000990 - RMSE * Adjusted Close Range\n"
     ]
    }
   ],
   "source": [
    "range = [np.amin(stocks_data['Close']), np.amax(stocks_data['Close'])]\n",
    "\n",
    "#Calculate the stock price delta in $\n",
    "\n",
    "true_delta = testScore*(range[1]-range[0])\n",
    "print('Delta Price: %.6f - RMSE * Adjusted Close Range' % true_delta)    "
   ]
  },
  {
   "cell_type": "code",
   "execution_count": 61,
   "metadata": {},
   "outputs": [
    {
     "name": "stdout",
     "output_type": "stream",
     "text": [
      "1/1 [==============================] - 0s 328ms/step\n",
      "[[0.09404148161411285]]\n"
     ]
    }
   ],
   "source": [
    "# load model from single file\n",
    "from keras.models import load_model\n",
    "model = load_model('lstm_model_improved.h5')\n",
    "# make predictions\n",
    "yhat = model.predict(X_test[-1:], verbose=1)\n",
    "predict_nextDay=yhat.tolist()\n",
    "last_day=y_test[-1:].tolist()\n",
    "\n",
    "print(predict_nextDay)"
   ]
  },
  {
   "cell_type": "code",
   "execution_count": 62,
   "metadata": {},
   "outputs": [
    {
     "name": "stdout",
     "output_type": "stream",
     "text": [
      "[0.09448058221163136]\n"
     ]
    }
   ],
   "source": [
    "print(last_day)"
   ]
  },
  {
   "cell_type": "code",
   "execution_count": 63,
   "metadata": {},
   "outputs": [
    {
     "name": "stdout",
     "output_type": "stream",
     "text": [
      "If you buy it, it will be beneficial for you.\n"
     ]
    }
   ],
   "source": [
    "if(predict_nextDay[0] > last_day):\n",
    "    print('Either sell it or wait. We\\'ll assert you to WAIT. ')\n",
    "else:\n",
    "    print('If you buy it, it will be beneficial for you.')"
   ]
  }
 ],
 "metadata": {
  "kernelspec": {
   "display_name": "Python 3",
   "language": "python",
   "name": "python3"
  },
  "language_info": {
   "codemirror_mode": {
    "name": "ipython",
    "version": 3
   },
   "file_extension": ".py",
   "mimetype": "text/x-python",
   "name": "python",
   "nbconvert_exporter": "python",
   "pygments_lexer": "ipython3",
   "version": "3.6.8"
  }
 },
 "nbformat": 4,
 "nbformat_minor": 2
}
